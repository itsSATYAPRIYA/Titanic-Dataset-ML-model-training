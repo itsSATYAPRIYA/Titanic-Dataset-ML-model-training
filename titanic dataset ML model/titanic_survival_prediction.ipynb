{
 "cells": [
  {
   "cell_type": "markdown",
   "id": "cec9752b",
   "metadata": {},
   "source": [
    "# 1. Introduction \n",
    "The Titanic dataset is a binary classification problem where the goal is to predict which passenger survived the Titanic shipwreck. We'll use machine learning algorithms like Logistic Regression, SVM, & KNN to make predictions based on passenger data sucah as age, class, gender, etc. "
   ]
  },
  {
   "cell_type": "markdown",
   "id": "5980fd34",
   "metadata": {},
   "source": [
    "# 2. Data Overview \n",
    "We begin by loading and inspecting the training & test datasets to understand their structure and identify any missing or inconsistant data."
   ]
  },
  {
   "cell_type": "code",
   "execution_count": 2,
   "id": "29c9eb0c",
   "metadata": {},
   "outputs": [
    {
     "name": "stdout",
     "output_type": "stream",
     "text": [
      "<class 'pandas.core.frame.DataFrame'>\n",
      "RangeIndex: 891 entries, 0 to 890\n",
      "Data columns (total 12 columns):\n",
      " #   Column       Non-Null Count  Dtype  \n",
      "---  ------       --------------  -----  \n",
      " 0   PassengerId  891 non-null    int64  \n",
      " 1   Survived     891 non-null    int64  \n",
      " 2   Pclass       891 non-null    int64  \n",
      " 3   Name         891 non-null    object \n",
      " 4   Sex          891 non-null    object \n",
      " 5   Age          714 non-null    float64\n",
      " 6   SibSp        891 non-null    int64  \n",
      " 7   Parch        891 non-null    int64  \n",
      " 8   Ticket       891 non-null    object \n",
      " 9   Fare         891 non-null    float64\n",
      " 10  Cabin        204 non-null    object \n",
      " 11  Embarked     889 non-null    object \n",
      "dtypes: float64(2), int64(5), object(5)\n",
      "memory usage: 83.7+ KB\n"
     ]
    },
    {
     "data": {
      "text/plain": [
       "PassengerId      0\n",
       "Survived         0\n",
       "Pclass           0\n",
       "Name             0\n",
       "Sex              0\n",
       "Age            177\n",
       "SibSp            0\n",
       "Parch            0\n",
       "Ticket           0\n",
       "Fare             0\n",
       "Cabin          687\n",
       "Embarked         2\n",
       "dtype: int64"
      ]
     },
     "execution_count": 2,
     "metadata": {},
     "output_type": "execute_result"
    }
   ],
   "source": [
    "import pandas as pd \n",
    "train = pd.read_csv(\"train.csv\")\n",
    "test = pd.read_csv(\"test.csv\")\n",
    "train.info()\n",
    "train.isnull().sum()"
   ]
  },
  {
   "cell_type": "markdown",
   "id": "ab0d735b",
   "metadata": {},
   "source": [
    "# 3. Exploratory Data Analysis (EDA)\n",
    "We explore the distribution of features and their relationship with survival outcomes "
   ]
  },
  {
   "cell_type": "code",
   "execution_count": 3,
   "id": "51b46134",
   "metadata": {},
   "outputs": [
    {
     "data": {
      "image/png": "[encoded data removed]",
      "text/plain": [
       "<Figure size 640x480 with 1 Axes>"
      ]
     },
     "metadata": {},
     "output_type": "display_data"
    }
   ],
   "source": [
    "import seaborn as sns\n",
    "import matplotlib.pyplot as plt\n",
    "\n",
    "sns.countplot(x=\"Survived\", data = train)\n",
    "plt.title(\"Survival Count\")\n",
    "plt.show()"
   ]
  },
  {
   "cell_type": "markdown",
   "id": "8a532d13",
   "metadata": {},
   "source": [
    "# 4. Feature Engineering\n",
    "Let's extract useful features such as titles from names, family size, deck information from cabin, and more"
   ]
  },
  {
   "cell_type": "code",
   "execution_count": 4,
   "id": "313a34c1",
   "metadata": {},
   "outputs": [],
   "source": [
    "train[\"Title\"] = train[\"Name\"].str.extract(r'([A-Za-z]+)\\.', expand=False)\n",
    "test[\"Title\"] = test[\"Name\"].str.extract(r'([A-Za-z]+)\\.', expand=False)\n",
    "\n",
    "train[\"FamilySize\"] = train[\"SibSp\"] + train[\"Parch\"] + 1\n",
    "test[\"FamilySize\"] = test[\"SibSp\"] + test[\"Parch\"] + 1\n",
    "\n",
    "train[\"IsAlone\"] = (train[\"FamilySize\"] == 1).astype(int)\n",
    "test[\"IsAlone\"] = (test[\"FamilySize\"] == 1).astype(int)"
   ]
  },
  {
   "cell_type": "markdown",
   "id": "972667ef",
   "metadata": {},
   "source": [
    "# 5 . Data Preprocessing\n",
    "This step invloves imputting missing values, encoding categorical variables, and scaling numerical features if required"
   ]
  },
  {
   "cell_type": "code",
   "execution_count": 5,
   "id": "6bdee3bb",
   "metadata": {},
   "outputs": [
    {
     "name": "stderr",
     "output_type": "stream",
     "text": [
      "/tmp/ipykernel_2875/1654034793.py:3: FutureWarning: A value is trying to be set on a copy of a DataFrame or Series through chained assignment using an inplace method.\n",
      "The behavior will change in pandas 3.0. This inplace method will never work because the intermediate object on which we are setting values always behaves as a copy.\n",
      "\n",
      "For example, when doing 'df[col].method(value, inplace=True)', try using 'df.method({col: value}, inplace=True)' or df[col] = df[col].method(value) instead, to perform the operation inplace on the original object.\n",
      "\n",
      "\n",
      "  train[\"Age\"].fillna(train[\"Age\"].median(), inplace=True)\n",
      "/tmp/ipykernel_2875/1654034793.py:4: FutureWarning: A value is trying to be set on a copy of a DataFrame or Series through chained assignment using an inplace method.\n",
      "The behavior will change in pandas 3.0. This inplace method will never work because the intermediate object on which we are setting values always behaves as a copy.\n",
      "\n",
      "For example, when doing 'df[col].method(value, inplace=True)', try using 'df.method({col: value}, inplace=True)' or df[col] = df[col].method(value) instead, to perform the operation inplace on the original object.\n",
      "\n",
      "\n",
      "  test[\"Age\"].fillna(train[\"Age\"].median(), inplace=True)\n",
      "/tmp/ipykernel_2875/1654034793.py:5: FutureWarning: A value is trying to be set on a copy of a DataFrame or Series through chained assignment using an inplace method.\n",
      "The behavior will change in pandas 3.0. This inplace method will never work because the intermediate object on which we are setting values always behaves as a copy.\n",
      "\n",
      "For example, when doing 'df[col].method(value, inplace=True)', try using 'df.method({col: value}, inplace=True)' or df[col] = df[col].method(value) instead, to perform the operation inplace on the original object.\n",
      "\n",
      "\n",
      "  train[\"Embarked\"].fillna(train[\"Embarked\"].mode()[0], inplace=True)\n",
      "/tmp/ipykernel_2875/1654034793.py:6: FutureWarning: A value is trying to be set on a copy of a DataFrame or Series through chained assignment using an inplace method.\n",
      "The behavior will change in pandas 3.0. This inplace method will never work because the intermediate object on which we are setting values always behaves as a copy.\n",
      "\n",
      "For example, when doing 'df[col].method(value, inplace=True)', try using 'df.method({col: value}, inplace=True)' or df[col] = df[col].method(value) instead, to perform the operation inplace on the original object.\n",
      "\n",
      "\n",
      "  test[\"Fare\"].fillna(test[\"Fare\"].median(),inplace=True)\n"
     ]
    }
   ],
   "source": [
    "from sklearn.preprocessing import LabelEncoder\n",
    "\n",
    "train[\"Age\"].fillna(train[\"Age\"].median(), inplace=True)\n",
    "test[\"Age\"].fillna(train[\"Age\"].median(), inplace=True)\n",
    "train[\"Embarked\"].fillna(train[\"Embarked\"].mode()[0], inplace=True)\n",
    "test[\"Fare\"].fillna(test[\"Fare\"].median(),inplace=True)\n",
    "\n",
    "# Label encode 'Sex'\n",
    "le_sex = LabelEncoder()\n",
    "train[\"Sex\"] = le_sex.fit_transform(train[\"Sex\"])\n",
    "test[\"Sex\"] = le_sex.transform(test[\"Sex\"])\n",
    "\n",
    "# Label encode 'Embarked'\n",
    "le_embarked = LabelEncoder()\n",
    "train[\"Embarked\"] = le_embarked.fit_transform(train[\"Embarked\"])\n",
    "test[\"Embarked\"] = le_embarked.transform(test[\"Embarked\"])"
   ]
  },
  {
   "cell_type": "markdown",
   "id": "d704c726",
   "metadata": {},
   "source": [
    "# 6. Model Building \n",
    "We'll train multiple machine learning models and compare their performance "
   ]
  },
  {
   "cell_type": "code",
   "execution_count": 7,
   "id": "3e085f9b",
   "metadata": {},
   "outputs": [],
   "source": [
    "from sklearn.model_selection import train_test_split\n",
    "from sklearn.linear_model import LogisticRegression\n",
    "from sklearn.svm import SVC\n",
    "from sklearn.neighbors import KNeighborsClassifier\n",
    "from sklearn.metrics import accuracy_score\n",
    "\n",
    "features = [\"Pclass\", \"Sex\", \"Age\", \"Fare\", \"FamilySize\", \"IsAlone\", \"Embarked\"]\n",
    "x = train[features]\n",
    "y = train[\"Survived\"]\n",
    "\n",
    "X_train, X_val, Y_train, Y_val = train_test_split(x, y, test_size=0.2, random_state=42)\n",
    "\n",
    "# Logistic Regression \n",
    "log_reg = LogisticRegression(max_iter=1000)\n",
    "log_reg.fit(X_train, Y_train)\n",
    "log_pred = log_reg.predict(X_val)\n",
    "\n",
    "# KNN\n",
    "knn = KNeighborsClassifier(n_neighbors=5)\n",
    "knn.fit(X_train, Y_train)\n",
    "knn_pred = knn.predict(X_val)\n",
    "\n",
    "#SVM\n",
    "svm = SVC()\n",
    "svm.fit(X_train, Y_train)\n",
    "svm_pred = svm.predict(X_val)"
   ]
  },
  {
   "cell_type": "markdown",
   "id": "59fe2cea",
   "metadata": {},
   "source": [
    "# 7. Model Evaluation \n",
    "We compare the performance of different models on validation data."
   ]
  },
  {
   "cell_type": "code",
   "execution_count": 9,
   "id": "676ff4f2",
   "metadata": {},
   "outputs": [
    {
     "name": "stdout",
     "output_type": "stream",
     "text": [
      "Logistic Regression Acuuracy : 0.7988826815642458\n",
      "KNN accuracy : 0.7094972067039106\n",
      "SVM Accuracy : 0.664804469273743\n"
     ]
    }
   ],
   "source": [
    "print(f\"Logistic Regression Acuuracy : {accuracy_score(Y_val, log_pred)}\")\n",
    "print(f\"KNN accuracy : {accuracy_score(Y_val, knn_pred)}\")\n",
    "print(f\"SVM Accuracy : {accuracy_score(Y_val, svm_pred)}\")"
   ]
  },
  {
   "cell_type": "markdown",
   "id": "d9a76cea",
   "metadata": {},
   "source": [
    "# 8. Final Model and Prediction \n",
    "We train the best model on the full dataset and generate predictions for the test set"
   ]
  },
  {
   "cell_type": "code",
   "execution_count": 10,
   "id": "291208ab",
   "metadata": {},
   "outputs": [],
   "source": [
    "final_model = LogisticRegression(max_iter=1000)\n",
    "final_model.fit(x, y)\n",
    "X_test = test[features]\n",
    "predictions = final_model.predict(X_test)"
   ]
  },
  {
   "cell_type": "markdown",
   "id": "df4aa8c9",
   "metadata": {},
   "source": [
    "# 9. Submission \n",
    "We create a submisson file with the rqeuired format"
   ]
  },
  {
   "cell_type": "code",
   "execution_count": 11,
   "id": "50e7c3e1",
   "metadata": {},
   "outputs": [],
   "source": [
    "submission = pd.DataFrame({\n",
    "    \"PassengerID\": test[\"PassengerId\"],\n",
    "    \"Survived\": predictions})\n",
    "\n",
    "submission.to_csv(\"Submission.csv\", index=False)"
   ]
  },
  {
   "cell_type": "markdown",
   "id": "3b3fb242",
   "metadata": {},
   "source": [
    "# 10. Conclusion \n",
    "We succesfully built and tested musltiple models for predicting Titanic survival. Logistic Regression provided solid results. Further improvements can be made by hyperparameter turning or using ensemble methods like Random Forest or XGBoost"
   ]
  }
 ],
 "metadata": {
  "kernelspec": {
   "display_name": "Python 3",
   "language": "python",
   "name": "python3"
  },
  "language_info": {
   "codemirror_mode": {
    "name": "ipython",
    "version": 3
   },
   "file_extension": ".py",
   "mimetype": "text/x-python",
   "name": "python",
   "nbconvert_exporter": "python",
   "pygments_lexer": "ipython3",
   "version": "3.10.12"
  }
 },
 "nbformat": 4,
 "nbformat_minor": 5
}
